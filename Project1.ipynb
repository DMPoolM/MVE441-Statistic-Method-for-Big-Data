{
 "cells": [
  {
   "cell_type": "code",
   "execution_count": 1,
   "id": "ca6cd6c8-51ef-40f2-b93d-e8d8ca8c01e0",
   "metadata": {},
   "outputs": [],
   "source": [
    "import numpy as np\n",
    "import pandas as pd\n",
    "import matplotlib.pyplot as plt\n",
    "\n",
    "# Load the data\n",
    "data = pd.read_csv('MVE441 Statistic learning for big data/Project 1/TCGAdata.txt', delimiter = ' ')\n",
    "labels = pd.read_csv('MVE441 Statistic learning for big data/Project 1/TCGAlabels', delimiter = ' ')"
   ]
  },
  {
   "cell_type": "code",
   "execution_count": 6,
   "id": "09d2e368-ce72-42f0-9044-dcaf20864667",
   "metadata": {},
   "outputs": [
    {
     "name": "stdout",
     "output_type": "stream",
     "text": [
      "            V1        V2        V3        V4        V5        V6        V7  \\\n",
      "0    -0.919906  0.654030 -1.157337 -0.264374 -0.616969  2.418485  1.412586   \n",
      "1    -1.746010 -0.081994 -0.783148 -0.309184 -0.457870  0.507654  0.104541   \n",
      "2    -0.600541 -0.190182 -1.011556 -0.067973 -0.238182  1.030204  0.703147   \n",
      "3    -0.474599 -0.465606 -1.010290 -0.196135 -0.406030  0.286554 -1.244936   \n",
      "4     0.900607  0.241042 -1.040232 -0.068804  0.240433 -0.638382  0.253359   \n",
      "...        ...       ...       ...       ...       ...       ...       ...   \n",
      "2882 -1.634421 -0.514738 -1.084321 -0.587557 -0.505288  1.604267 -1.993035   \n",
      "2883  0.294937  0.249453 -0.934582  0.104487  0.637722  0.853234 -0.457945   \n",
      "2884 -0.338485  0.668821 -1.248582 -0.328466  1.000972  2.275195 -0.529706   \n",
      "2885 -0.445679 -0.153343 -0.226336 -0.302787  1.420491  1.050359 -2.311641   \n",
      "2886 -0.223478  0.316791 -0.080916  0.249499  0.216114  0.331480 -0.854407   \n",
      "\n",
      "            V8        V9       V10  ...     V1991     V1992     V1993  \\\n",
      "0     0.334097  0.630585 -0.291939  ... -0.173084 -0.304463 -0.083255   \n",
      "1     0.085747  0.061588 -0.042836  ...  0.225470 -0.019027  0.645773   \n",
      "2    -0.380899  0.385520 -0.195701  ... -1.183809 -0.206958 -0.059789   \n",
      "3     0.137518 -0.140388 -0.247923  ... -0.438417 -0.364128 -0.368985   \n",
      "4    -0.186454 -0.009584 -0.136991  ... -0.607705  0.026602  0.182436   \n",
      "...        ...       ...       ...  ...       ...       ...       ...   \n",
      "2882  0.155842 -0.123941 -0.242662  ... -1.086439 -0.000572 -0.763453   \n",
      "2883 -0.265924 -0.067235 -0.174455  ... -1.928505 -0.202867 -0.454645   \n",
      "2884 -0.096980 -0.171056 -0.304258  ... -2.138130 -0.249784 -0.500089   \n",
      "2885 -1.259978  0.020509 -0.095869  ...  0.621498  0.018547  0.181642   \n",
      "2886  0.094971 -0.017499 -0.148249  ... -1.889189  0.046489  0.887005   \n",
      "\n",
      "         V1994     V1995     V1996     V1997     V1998     V1999     V2000  \n",
      "0    -2.242591 -0.980296 -1.249134 -0.722009 -0.878412 -0.882094  0.118576  \n",
      "1    -1.711537 -1.246520  1.160949 -0.988715 -0.544540 -0.547689  0.562029  \n",
      "2    -2.034681 -0.240433  0.075650 -0.815502 -0.748599 -0.752070 -0.353240  \n",
      "3    -1.966336  0.076350  0.770539 -0.459875 -0.764573  0.559064  0.124559  \n",
      "4    -0.508179 -0.319774 -0.328305  0.415100 -0.749110 -0.267783 -0.602939  \n",
      "...        ...       ...       ...       ...       ...       ...       ...  \n",
      "2882  1.277660 -0.244456  2.537763 -1.903683  1.250095 -0.816628  0.020511  \n",
      "2883  0.139043  0.237285  1.701819 -1.475544 -0.689587  0.910952 -0.809529  \n",
      "2884  0.610471 -1.224120  2.291400  1.903866 -0.944219  0.891419 -0.275255  \n",
      "2885  0.274299 -0.290930  1.965378 -1.783967 -0.655003 -0.658513  0.095043  \n",
      "2886  0.848589  0.341779  0.309642 -0.416642 -0.776434  0.042454 -0.414734  \n",
      "\n",
      "[2887 rows x 2000 columns]\n",
      "        x\n",
      "1     GBM\n",
      "2     GBM\n",
      "3     GBM\n",
      "4     GBM\n",
      "5     GBM\n",
      "...   ...\n",
      "2883    U\n",
      "2884    U\n",
      "2885    U\n",
      "2886    U\n",
      "2887    U\n",
      "\n",
      "[2887 rows x 1 columns]\n"
     ]
    }
   ],
   "source": [
    "from sklearn.preprocessing import StandardScaler\n",
    "scaler = StandardScaler()\n",
    "#Standardizing the rows of data (transposing as fit_transform standardizes along columns)\n",
    "scaled_data = pd.DataFrame(np.transpose(scaler.fit_transform(data.transpose())), columns=data.columns)\n",
    "\n",
    "print(scaled_data)\n",
    "print(labels)"
   ]
  },
  {
   "cell_type": "code",
   "execution_count": 15,
   "id": "080af019-4d6f-4bfd-9c27-5a656cc10153",
   "metadata": {},
   "outputs": [
    {
     "name": "stdout",
     "output_type": "stream",
     "text": [
      "Optimal number of components: 21\n",
      "Optimal number of components: 19\n"
     ]
    }
   ],
   "source": [
    "# PCA Classifier\n",
    "from sklearn.decomposition import PCA\n",
    "from sklearn.svm import SVC\n",
    "from sklearn.pipeline import make_pipeline\n",
    "from sklearn.neighbors import KNeighborsClassifier\n",
    "from sklearn.model_selection import cross_val_score\n",
    "\n",
    "# Define a range of numbers of components to try\n",
    "num_components_range = range(1, 25)  # Example range, adjust as needed\n",
    "\n",
    "# Initialize lists to store mean cross-validation scores for each number of components\n",
    "SVC_mean_scores = []\n",
    "KNN_mean_scores = []\n",
    "\n",
    "# Loop over different numbers of components\n",
    "for n_components in num_components_range:\n",
    "    # Create a pipeline for classifiers\n",
    "    SVC_pipeline = make_pipeline(PCA(n_components=n_components), SVC())  # Example pipeline, replace with your choice\n",
    "    KNN_pipeline = make_pipeline(PCA(n_components=n_components), KNeighborsClassifier())\n",
    "    \n",
    "    # Mean cross-validation scores:\n",
    "    SVC_scores = cross_val_score(SVC_pipeline, scaled_data, labels.values.ravel(), cv=5)\n",
    "    SVC_mean_score = SVC_scores.mean()\n",
    "    \n",
    "    KNN_scores = cross_val_score(KNN_pipeline, scaled_data, labels.values.ravel(), cv=5)\n",
    "    KNN_mean_score = KNN_scores.mean()\n",
    "    \n",
    "    SVC_mean_scores.append(SVC_mean_score)\n",
    "    KNN_mean_scores.append(KNN_mean_score)\n",
    "\n",
    "# Find the optimal number of components based on the highest mean cross-validation score\n",
    "SVC_optimal_n_components = num_components_range[SVC_mean_scores.index(max(SVC_mean_scores))]\n",
    "KNN_optimal_n_components = num_components_range[KNN_mean_scores.index(max(KNN_mean_scores))]\n",
    "\n",
    "# Print the optimal number of components\n",
    "print(\"Optimal number of components:\", SVC_optimal_n_components)\n",
    "print(\"Optimal number of components:\", KNN_optimal_n_components)"
   ]
  },
  {
   "cell_type": "code",
   "execution_count": null,
   "id": "fecfb27d-4185-4d3f-bf44-863bac347ebe",
   "metadata": {},
   "outputs": [],
   "source": []
  }
 ],
 "metadata": {
  "kernelspec": {
   "display_name": "Python 3 (ipykernel)",
   "language": "python",
   "name": "python3"
  },
  "language_info": {
   "codemirror_mode": {
    "name": "ipython",
    "version": 3
   },
   "file_extension": ".py",
   "mimetype": "text/x-python",
   "name": "python",
   "nbconvert_exporter": "python",
   "pygments_lexer": "ipython3",
   "version": "3.11.7"
  }
 },
 "nbformat": 4,
 "nbformat_minor": 5
}
